{
 "cells": [
  {
   "cell_type": "markdown",
   "metadata": {},
   "source": [
    "# COGS18 Connect Four\n",
    "-----------------------------------\n",
    "\n",
    "\n",
    "## Description\n",
    "------------------\n",
    "I was inspired to make a game when my friend, who's also taking a coding class, made a tic-tac-toe game. I thought it would be challenging and interesting to create Connect-Four as it would use and extend concepts we discussed in class. I began by writing down all of the components the game entails. This helped me develop ideas pertaining to how to extrapolate these concepts and create an interactive user-friendly game.\n",
    "\n",
    "I imported numpy as np and, np.zeros to expedite the process of creating the actual matrix of zeros. It was difficult finding the correct code to indicate a win through diagonals of consecutive numbers in the matrix, this took the longest time to accomplish. Additionally, I used np.flip to ensure that the numbers fall to the bottom of the matrix rather than stopping at the top. The majority of the coding uses functions, booleans, for loops, while loops, and if statements. \n",
    "\n",
    "\n",
    "## Instructions\n",
    "------------------\n",
    "This is a two player game. Each player must place their respective number, (The number 1 for Player 1, and the number 2 for Player 2), within the matrix. The objective is to have four of the same number in a row, column, or diagonal line. Players will alternate turns until this is achieved. "
   ]
  },
  {
   "cell_type": "code",
   "execution_count": null,
   "metadata": {},
   "outputs": [],
   "source": [
    "# Run this cell to play the game!\n",
    "import sys\n",
    "sys.path.append(\"./my_module\")\n",
    "\n",
    "import game\n",
    "\n",
    "game.play()"
   ]
  },
  {
   "cell_type": "code",
   "execution_count": null,
   "metadata": {},
   "outputs": [],
   "source": [
    "# Run this cell to run tests!\n",
    "import sys\n",
    "sys.path.append(\"./my_module\")\n",
    "\n",
    "import game_tests\n",
    "\n",
    "game_tests.run()"
   ]
  },
  {
   "cell_type": "code",
   "execution_count": null,
   "metadata": {},
   "outputs": [],
   "source": []
  }
 ],
 "metadata": {
  "kernelspec": {
   "display_name": "Python 3",
   "language": "python",
   "name": "python3"
  },
  "language_info": {
   "codemirror_mode": {
    "name": "ipython",
    "version": 3
   },
   "file_extension": ".py",
   "mimetype": "text/x-python",
   "name": "python",
   "nbconvert_exporter": "python",
   "pygments_lexer": "ipython3",
   "version": "3.6.7"
  }
 },
 "nbformat": 4,
 "nbformat_minor": 2
}
